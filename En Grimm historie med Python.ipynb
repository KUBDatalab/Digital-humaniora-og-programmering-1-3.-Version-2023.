{
 "cells": [
  {
   "cell_type": "markdown",
   "id": "917ca221",
   "metadata": {},
   "source": [
    "# En Grimm historie - Dyk ned i DH, tekster og Python </center>"
   ]
  },
  {
   "cell_type": "markdown",
   "id": "76b1717c",
   "metadata": {},
   "source": [
    "Koden downloader først en e-bog med Grimms eventyr fra Gutenberg. Bogen bliver opdelt og hvert eventyr bliver gemt som en txt fil på din computer. NLTK biblioteket bliver anvendt til at kvantitative undersøgelser af hvert eventyr.  "
   ]
  },
  {
   "cell_type": "markdown",
   "id": "c914b702",
   "metadata": {},
   "source": [
    "Begynd her: https://www.gutenberg.org/ebooks/2591\n",
    "\n",
    "Klik på \"Plain Text UTF-8\".\n",
    "\n",
    "Kopier url'en: https://www.gutenberg.org/files/2591/2591-0.txt"
   ]
  },
  {
   "cell_type": "code",
   "execution_count": null,
   "id": "08bf0dd5",
   "metadata": {},
   "outputs": [],
   "source": [
    "import urllib.request\n",
    "import re\n",
    "import nltk"
   ]
  },
  {
   "cell_type": "code",
   "execution_count": null,
   "id": "110493c9",
   "metadata": {},
   "outputs": [],
   "source": [
    "# hent teksten\n",
    "url = 'https://www.gutenberg.org/files/2591/2591-0.txt'\n",
    "raw_text = urllib.request.urlopen(url).read().decode()"
   ]
  },
  {
   "cell_type": "code",
   "execution_count": null,
   "id": "eef54325",
   "metadata": {},
   "outputs": [],
   "source": [
    "#find starten\n",
    "start = raw_text.find('THE BROTHERS GRIMM FAIRY TALES') + len('THE BROTHERS GRIMM FAIRY TALES')\n",
    "# find slutningen\n",
    "end = raw_text.find('*****')\n",
    "# find det der imellem\n",
    "content = raw_text[start:end]\n",
    "\n",
    "#opdel på hvert eventyr \n",
    "tales = content.split('\\r\\n\\r\\n\\r\\n\\r\\n\\r\\n') # split før overskrift på titel\n",
    "# Filtrer første item væk, fordi det er tomt\n",
    "tales = tales[1:] \n",
    "\n",
    "titles = []\n",
    "for i in tales:\n",
    "    split_text = i.split('\\r\\n\\r\\n\\r\\n') # split efter titel\n",
    "    title = split_text[0] # gem første del af splittet - det er titlen  \n",
    "    titles.append(title) # tilføj titlen til den tomme liste\n",
    "\n",
    "# zip titles og tales    \n",
    "zip_format = list(zip(titles, tales))\n",
    "zip_format"
   ]
  },
  {
   "cell_type": "markdown",
   "id": "2d878e38",
   "metadata": {},
   "source": [
    "# Os biblioteket"
   ]
  },
  {
   "cell_type": "code",
   "execution_count": null,
   "id": "f4577a7d",
   "metadata": {},
   "outputs": [],
   "source": [
    "import os"
   ]
  },
  {
   "cell_type": "code",
   "execution_count": null,
   "id": "da34cb76",
   "metadata": {},
   "outputs": [],
   "source": [
    "os.getcwd()"
   ]
  },
  {
   "cell_type": "code",
   "execution_count": null,
   "id": "6523c627",
   "metadata": {},
   "outputs": [],
   "source": [
    "# lav en ny mappe\n",
    "# os.mkdir('grimm_tales')\n",
    "os.chdir(r'..\\grimm_tales')"
   ]
  },
  {
   "cell_type": "code",
   "execution_count": null,
   "id": "294640b0",
   "metadata": {},
   "outputs": [],
   "source": [
    "# Gem filerne i mappen\n",
    "for i in zip_format:\n",
    "    new_file = open(i[0]+'.txt', 'w', encoding='utf-8-sig')\n",
    "    new_file.write(i[1])\n",
    "    new_file.close()\n",
    "\n",
    "# check om de er der der!    \n",
    "os.listdir()"
   ]
  },
  {
   "cell_type": "markdown",
   "id": "6d692c44",
   "metadata": {},
   "source": [
    "# NLTK metoder"
   ]
  },
  {
   "cell_type": "code",
   "execution_count": null,
   "id": "4dbe20c0",
   "metadata": {},
   "outputs": [],
   "source": [
    "import nltk\n",
    "text = tales[0]\n",
    "lower_text = text.lower()\n",
    "scrub_text = ' '.join(re.findall(r'\\S+', lower_text))\n",
    "tokenized_text = nltk.word_tokenize(scrub_text)\n",
    "nltk_text = nltk.Text(tokenized_text)\n",
    "stopwords = nltk.corpus.stopwords.words('english')\n",
    "newStopWords = [',',';', '.', ':', '‘', '’']\n",
    "stopwords.extend(newStopWords)\n",
    "filtered_tokens = [word for word in nltk_text if word not in stopwords]\n",
    "filtered_tokens"
   ]
  },
  {
   "cell_type": "code",
   "execution_count": null,
   "id": "8cda9623",
   "metadata": {},
   "outputs": [],
   "source": [
    "fdist_filtered = nltk.FreqDist(filtered_tokens).plot(20, title='Hyppigste ord (uden stopord)')"
   ]
  },
  {
   "cell_type": "markdown",
   "id": "6e2e3913",
   "metadata": {},
   "source": [
    "Collocation_list() returnerer en liste over de mest almindelige ordpar i teksten. Bemærk, at i nogle versioner af Python virker collocation_list() ikke. Hvis dette er tilfældet, prøv collocations() i stedet."
   ]
  },
  {
   "cell_type": "code",
   "execution_count": null,
   "id": "19c90106",
   "metadata": {},
   "outputs": [],
   "source": [
    "nltk_text.collocation_list()"
   ]
  },
  {
   "cell_type": "markdown",
   "id": "bf3d5c58",
   "metadata": {},
   "source": [
    "Concordance()-metoden returnerer konteksten af et specifikt udtryk. Længden af output kan ændres med parametrene i width og lines."
   ]
  },
  {
   "cell_type": "code",
   "execution_count": null,
   "id": "a3cec597",
   "metadata": {},
   "outputs": [],
   "source": [
    "nltk_text.concordance('golden', lines=30, width=80)"
   ]
  },
  {
   "cell_type": "markdown",
   "id": "12fb5fac",
   "metadata": {},
   "source": [
    "Similar() anvendes til at identificere ord, der optræder i en lignende kontekst."
   ]
  },
  {
   "cell_type": "code",
   "execution_count": null,
   "id": "e1dc78da",
   "metadata": {},
   "outputs": [],
   "source": [
    "nltk_text.similar('golden')"
   ]
  },
  {
   "cell_type": "markdown",
   "id": "e1576f67",
   "metadata": {},
   "source": [
    "Dispersion_plot() anvendes til at visualisere, hvordan termer forekommer på tværs af vores tekst. Metoden accepterer en liste med et eller flere udtryk som input."
   ]
  },
  {
   "cell_type": "code",
   "execution_count": null,
   "id": "bdadee49",
   "metadata": {},
   "outputs": [],
   "source": [
    "terms = ['horse', 'bird', 'apples', 'cage']\n",
    "\n",
    "nltk_text.dispersion_plot(terms)"
   ]
  },
  {
   "cell_type": "markdown",
   "id": "9561c060",
   "metadata": {},
   "source": [
    "Generate() anvendes til at genere mere eller mindre sammenhængende tekst med udgangspunkt i en eksisterende tekst."
   ]
  },
  {
   "cell_type": "code",
   "execution_count": null,
   "id": "dac5c680",
   "metadata": {},
   "outputs": [],
   "source": [
    "text_gen = nltk_text.generate(150)"
   ]
  }
 ],
 "metadata": {
  "kernelspec": {
   "display_name": "Python 3 (ipykernel)",
   "language": "python",
   "name": "python3"
  },
  "language_info": {
   "codemirror_mode": {
    "name": "ipython",
    "version": 3
   },
   "file_extension": ".py",
   "mimetype": "text/x-python",
   "name": "python",
   "nbconvert_exporter": "python",
   "pygments_lexer": "ipython3",
   "version": "3.9.13"
  }
 },
 "nbformat": 4,
 "nbformat_minor": 5
}
