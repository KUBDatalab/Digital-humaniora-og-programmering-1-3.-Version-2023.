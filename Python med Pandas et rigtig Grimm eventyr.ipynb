{
 "cells": [
  {
   "cell_type": "markdown",
   "id": "86daefd9",
   "metadata": {},
   "source": [
    "# Python med Pandas et rigtig Grimm eventyr"
   ]
  },
  {
   "cell_type": "markdown",
   "id": "d086117d",
   "metadata": {},
   "source": [
    "Denne notebook gennemgår nogle af Python-biblioteket Pandas’ mange muligheder. Pandas er et bibliotek, som man benytter til at arbejde med data, der er struktureret i rækker og kolonner. Man vil ofte vælge at strukturere sine data i rækker og kolonner, hvis man har samlet meget data, og der findes også mange datasæt, som allerede er struktureret således. Med lidt kendskab til Pandas er man godt hjulpet på vej til at kunne give sig i kast med dataanalyse af større datasæt.\n",
    "\n",
    "Når du skal arbejde med Pandas bliver dette cheatsheet din ven: https://pandas.pydata.org/Pandas_Cheat_Sheet.pdf\n",
    "\n",
    "Kildematerialet (dataen) består i brøderne Grimms. Dataen (grimm_tales.zip) kan downloades herfra: https://github.com/KUBDatalab/datasets"
   ]
  },
  {
   "cell_type": "markdown",
   "id": "25c04f6a",
   "metadata": {},
   "source": [
    "Importer biblioteker"
   ]
  },
  {
   "cell_type": "code",
   "execution_count": null,
   "id": "c82e9244",
   "metadata": {},
   "outputs": [],
   "source": [
    "# til struktur\n",
    "import pandas as pd\n",
    "# til navigation\n",
    "import os\n",
    "# til rensning\n",
    "import re\n",
    "# til analyse \n",
    "import nltk\n",
    "nltk.download ('wordnet')\n",
    "from nltk.stem import WordNetLemmatizer\n",
    "nltk.download('omw-1.4')"
   ]
  },
  {
   "cell_type": "code",
   "execution_count": null,
   "id": "1ac833e0",
   "metadata": {},
   "outputs": [],
   "source": [
    "# find mappen med data\n",
    "os.chdir('grimm_tales')"
   ]
  },
  {
   "cell_type": "code",
   "execution_count": null,
   "id": "c8b98d27",
   "metadata": {},
   "outputs": [],
   "source": [
    "os.getcwd()"
   ]
  },
  {
   "cell_type": "code",
   "execution_count": null,
   "id": "3ab52218",
   "metadata": {},
   "outputs": [],
   "source": [
    "os.listdir()"
   ]
  },
  {
   "cell_type": "code",
   "execution_count": null,
   "id": "b305ec67",
   "metadata": {},
   "outputs": [],
   "source": [
    "file_names = os.listdir()"
   ]
  },
  {
   "cell_type": "code",
   "execution_count": null,
   "id": "6f65af1b",
   "metadata": {},
   "outputs": [],
   "source": [
    "titles = []\n",
    "for i in file_names:\n",
    "    title = str(i[:-4])\n",
    "    titles.append(title)\n",
    "\n",
    "print ('Total titles:', len(titles))\n",
    "print ('The titles are:', titles)"
   ]
  },
  {
   "cell_type": "code",
   "execution_count": null,
   "id": "9c78a34e",
   "metadata": {},
   "outputs": [],
   "source": [
    "text = []\n",
    "for i in file_names:\n",
    "    open_file = open(i, 'r', encoding='utf-8-sig')\n",
    "    content = open_file.read()    \n",
    "    open_file.close()\n",
    "    content = content.replace('\\r', ' ').replace('\\n', ' ')\n",
    "    text.append(content)\n",
    "print ('Total texts:', len(text))\n",
    "print ('The first text:', text[0])"
   ]
  },
  {
   "cell_type": "code",
   "execution_count": null,
   "id": "5b645421",
   "metadata": {},
   "outputs": [],
   "source": [
    "# Gem data i en dataframe\n",
    "df = pd.DataFrame({'Title': titles,\n",
    "                  'Text':text})"
   ]
  },
  {
   "cell_type": "code",
   "execution_count": null,
   "id": "1449ba5b",
   "metadata": {},
   "outputs": [],
   "source": [
    "df"
   ]
  },
  {
   "cell_type": "code",
   "execution_count": null,
   "id": "e6621525",
   "metadata": {},
   "outputs": [],
   "source": [
    "# statistik på tekstlængde\n",
    "df['Text_len'] = df['Text'].apply(lambda x :len(x))\n",
    "df['Text_len'].describe()"
   ]
  },
  {
   "cell_type": "code",
   "execution_count": null,
   "id": "69e1bc3f",
   "metadata": {},
   "outputs": [],
   "source": [
    "# segmenter tekster\n",
    "def preproces_text(text):\n",
    "    lower_text = text.lower()\n",
    "    return re.findall(r'\\b\\S+\\b', lower_text)\n",
    "\n",
    "\n",
    "df['Seg_text'] = df['Text'].apply(lambda x : preproces_text(x))\n",
    "df"
   ]
  },
  {
   "cell_type": "code",
   "execution_count": null,
   "id": "e844c95a",
   "metadata": {},
   "outputs": [],
   "source": [
    "# lemmatisering af orderne\n",
    "# efter at have fået styr på downloads af wordnet og dertilhørende nødvendige pakker (check fejl-beskrivelser), \n",
    "# så er vi klar! "
   ]
  },
  {
   "cell_type": "code",
   "execution_count": null,
   "id": "dbaec8ba",
   "metadata": {},
   "outputs": [],
   "source": [
    "py_lemmatizer = WordNetLemmatizer ()\n",
    "print (py_lemmatizer.lemmatize ('kings'))"
   ]
  },
  {
   "cell_type": "code",
   "execution_count": null,
   "id": "e23efb56",
   "metadata": {},
   "outputs": [],
   "source": [
    "def get_lemmas(word_list):\n",
    "    lemmas = []\n",
    "    for word in word_list:\n",
    "        lemma = py_lemmatizer.lemmatize(word)\n",
    "        lemmas.append(lemma)\n",
    "    return lemmas\n",
    "\n",
    "df['Lemmas'] = df['Seg_text'].apply(lambda x : get_lemmas(x))"
   ]
  },
  {
   "cell_type": "code",
   "execution_count": null,
   "id": "045a255f",
   "metadata": {},
   "outputs": [],
   "source": [
    "df"
   ]
  },
  {
   "cell_type": "code",
   "execution_count": null,
   "id": "a69cec85",
   "metadata": {},
   "outputs": [],
   "source": [
    "# \"parts of speech tagging\" af lemmaerne\n",
    "nltk.pos_tag(['king', 'and', 'queen'])"
   ]
  },
  {
   "cell_type": "code",
   "execution_count": null,
   "id": "71b1e5ea",
   "metadata": {},
   "outputs": [],
   "source": [
    "def pos_tagger(word_list):\n",
    "    return nltk.pos_tag(word_list)\n",
    "\n",
    "df['Pos_tags'] = df['Lemmas'].apply(lambda x : pos_tagger(x))\n",
    "df"
   ]
  },
  {
   "cell_type": "markdown",
   "id": "648f4358",
   "metadata": {},
   "source": [
    "Hvad betyder de forskellige tags?\n",
    "\n",
    "Læs mere her: https://pythonexamples.org/nltk-pos-tagging/"
   ]
  },
  {
   "cell_type": "code",
   "execution_count": null,
   "id": "c3e8f39d",
   "metadata": {},
   "outputs": [],
   "source": [
    "def get_pos_tag(pos_list, tag='NN'):\n",
    "    tag_list = []\n",
    "    for i in pos_list:\n",
    "        if i[1] == tag:\n",
    "            tag_list.append(i[0]) \n",
    "    return tag_list\n",
    "\n",
    "df['Noun'] = df['Pos_tags'].apply(lambda x : get_pos_tag(x))\n",
    "df['Verb'] = df['Pos_tags'].apply(lambda x : get_pos_tag(x, 'VB'))\n",
    "df['Adj'] = df['Pos_tags'].apply(lambda x : get_pos_tag(x, 'JJ'))\n",
    "df"
   ]
  },
  {
   "cell_type": "code",
   "execution_count": null,
   "id": "2044293f",
   "metadata": {},
   "outputs": [],
   "source": [
    "# funktion der plotter de 10 mest benyttede ord i en udvalgt ordklasse\n",
    "def plot_words(word_list):   \n",
    "    return nltk.FreqDist(word_list).plot(10) # return 10 most common\n",
    "\n",
    "title = 'ASHPUTTEL'\n",
    "print ('10 mest benyttede entals navneord i', title)\n",
    "df[df['Title'] == title]['Noun'].apply(lambda x : plot_words(x))"
   ]
  },
  {
   "cell_type": "code",
   "execution_count": null,
   "id": "d497b454",
   "metadata": {},
   "outputs": [],
   "source": [
    "# Subsets\n",
    "df_subset = df[df['Text'].str.contains('cat')]\n",
    "print ('df size', df.shape)\n",
    "print ('df_subset size', df_subset.shape)\n",
    "\n",
    "#sub sets with regex \n",
    "pattern = r'\\bcat\\b'\n",
    "df_subset_regex = df[df['Text'].str.contains(pattern, regex=True)]\n",
    "print ('df_subset_regex size', df_subset_regex.shape)"
   ]
  },
  {
   "cell_type": "code",
   "execution_count": null,
   "id": "ae1ade89",
   "metadata": {},
   "outputs": [],
   "source": [
    "# visualisering af tekst længde (den kan der arbejdes mere på!)\n",
    "new_subset = df[['Title','Text_len']]\n",
    "new_subset.plot(y='Text_len', x='Title', kind='barh', fontsize=5, rot=0, sort_columns=True)"
   ]
  },
  {
   "cell_type": "code",
   "execution_count": null,
   "id": "7cc990ed",
   "metadata": {},
   "outputs": [],
   "source": []
  },
  {
   "cell_type": "code",
   "execution_count": null,
   "id": "c462eb8a",
   "metadata": {},
   "outputs": [],
   "source": []
  }
 ],
 "metadata": {
  "kernelspec": {
   "display_name": "Python 3 (ipykernel)",
   "language": "python",
   "name": "python3"
  },
  "language_info": {
   "codemirror_mode": {
    "name": "ipython",
    "version": 3
   },
   "file_extension": ".py",
   "mimetype": "text/x-python",
   "name": "python",
   "nbconvert_exporter": "python",
   "pygments_lexer": "ipython3",
   "version": "3.9.13"
  }
 },
 "nbformat": 4,
 "nbformat_minor": 5
}
