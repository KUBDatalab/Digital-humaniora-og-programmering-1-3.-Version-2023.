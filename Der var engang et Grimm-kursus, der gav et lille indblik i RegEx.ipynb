{
 "cells": [
  {
   "cell_type": "markdown",
   "id": "a0ac8784",
   "metadata": {},
   "source": [
    "# Der var engang et Grimm-kursus, der gav et lille indblik i RegEx"
   ]
  },
  {
   "cell_type": "markdown",
   "id": "6cb183ca",
   "metadata": {},
   "source": [
    "Online RegEx tester: https://regex101.com/ er en helt fantastisk hjælpsom side til at lære at anvende regulære udtryk (Regex).\n",
    "\n",
    "W3schools har også en meget brugbar side, der handler om RegEx. https://www.w3schools.com/python/python_regex.asp\n",
    "\n",
    "RegEx' anvendelse er meget udbredt, fordi RegEx er super smart i relation til tekstbehandling, fordi det kan bruges til at foretage avancerede søgninger. RegEx anvendes til søgemaskiner og til søg og erstat funktioner. At arbejde med RegEx er afgjort en oplevelse for sig, men når man får indblik i omfanget af opgaver, som kan løses med RegEx, så indser man, at det er et utroligt godt værktøj.\n",
    "\n",
    "Denne notebook forsøger ikke at lære dig alt om RegEx, men den forsøger at skabe læring om det, og kun et fåtal af mulighederne bliver illustreret nedenfor.\n",
    "\n",
    "Foruden RegEx indeholder denne notebook mange loops, så på den måde kan du også få indblik i, hvordan du skriver den slags.\n",
    "\n",
    "Kildematerialet (dataen) består i brøderne Grimms. Dataen (grimm_tales.zip) kan downloades herfra: https://github.com/KUBDatalab/datasets"
   ]
  },
  {
   "cell_type": "code",
   "execution_count": null,
   "id": "a2750ee5",
   "metadata": {},
   "outputs": [],
   "source": [
    "import os\n",
    "\n",
    "os.chdir('.\\\\grimm_tales')\n",
    "\n",
    "file_list = os.listdir()\n",
    "\n",
    "# check indholdet\n",
    "file_list"
   ]
  },
  {
   "cell_type": "markdown",
   "id": "d401ce26",
   "metadata": {},
   "source": [
    "Vi bruger lister til at gemme flere elementer i en variabel. Vi kan tilgå hvert element ved at skrive navnet på variablen efterfulgt af to firkantede parenteser, hvor i vi skriver et tal, der henviser til elementets plads i listen. I python er det første element 0 og ikke 1."
   ]
  },
  {
   "cell_type": "code",
   "execution_count": null,
   "id": "7844c427",
   "metadata": {},
   "outputs": [],
   "source": [
    "print ('Fil et:', file_list[0])\n",
    "print ('Fil to;', file_list[1])\n",
    "print ('De tre første filer:', file_list[0:3])\n",
    "print ('De tre sidste filer:', file_list[-3:])"
   ]
  },
  {
   "cell_type": "markdown",
   "id": "38ea46be",
   "metadata": {},
   "source": [
    "## Indlæs tekster\n",
    "Når man åbner en tekst bruger man open(). Man tilføjer et r, så python kan regne ud at du åbner filen for at læse den, og man tilføjer encoding for at konvertere data til et læsbart format.\n",
    "\n",
    "I anden linje skriver vi et ny variabelnavn efterfulgt af forrige variabelnavn og .read() til"
   ]
  },
  {
   "cell_type": "code",
   "execution_count": null,
   "id": "ed4629bd",
   "metadata": {},
   "outputs": [],
   "source": [
    "open_file = open(file_list[0], 'r', encoding='utf-8-sig')\n",
    "raw_text = open_file.read()\n",
    "open_file.close()\n",
    "raw_text"
   ]
  },
  {
   "cell_type": "markdown",
   "id": "cd0c0e48",
   "metadata": {},
   "source": [
    "Ovenfor har vi åbnet en tekst og gemt den i en variabel, men vi skal åbne alle tekster. \n",
    "\n",
    "I stedet for at skrive mange linjer med kode for at gøre dette, så bygger vi et loop, som kan gøre det i seks linjer, og som udnytter at vi kan gemme flere værdier i en liste.\n",
    "\n",
    "Vi genbruger koden, som vi lige har skrevet og modificerer den en smule."
   ]
  },
  {
   "cell_type": "code",
   "execution_count": null,
   "id": "416337e3",
   "metadata": {},
   "outputs": [],
   "source": [
    "raw_texts = []\n",
    "for item in file_list:\n",
    "    open_file = open(item, 'r', encoding='utf-8-sig')\n",
    "    raw_text = open_file.read()\n",
    "    open_file.close()\n",
    "    raw_texts.append(raw_text)\n",
    "\n",
    "# Check indholdet af første tekst    \n",
    "raw_texts[0]"
   ]
  },
  {
   "cell_type": "markdown",
   "id": "e0c44de5",
   "metadata": {},
   "source": [
    "## Rens teksten\n",
    "Rensning af tekst kan foregå på flere måder. Metoden nedenfor er på den måde en ud af flere måder.\n",
    "\n",
    "Vi begynder med at importere RegEx (import re).\n",
    "\n",
    "RegEx mønsteret er '\\b\\S+\\b'.\n",
    "\n",
    "\\b : \\b finder positionen ved grænsen af et ord (word boundary).\n",
    "\n",
    "\\S: \\S matcher ethvert ikke-mellemrum\n",
    "\n",
    "+: + matcher det forrige tegn mellem én og et ubegrænset antal gange, så mange gange som muligt ind til næste tegn. Man siger, at plusset er grådigt.\n",
    "\n",
    "\\b : \\b finder positionen ved grænsen af et ord (word boundary)."
   ]
  },
  {
   "cell_type": "code",
   "execution_count": null,
   "id": "6f140ee9",
   "metadata": {},
   "outputs": [],
   "source": [
    "import re\n",
    "clean_texts = []\n",
    "for text in raw_texts:\n",
    "    text_lower_string = text.lower()\n",
    "    # RexEx funktionen .findall returnerer en liste af ord\n",
    "    text_clean_list = re.findall(r'\\b\\S+\\b', text_lower_string)\n",
    "    # Med ' '.join samles ordlisten til en tekststreng\n",
    "    string_text = ' '.join(text_clean_list)\n",
    "    # Med append tilføjes tekststrengen til listen clean_texts\n",
    "    clean_texts.append(string_text) "
   ]
  },
  {
   "cell_type": "code",
   "execution_count": null,
   "id": "399b0cee",
   "metadata": {},
   "outputs": [],
   "source": [
    "clean_texts[0]"
   ]
  },
  {
   "cell_type": "markdown",
   "id": "00504a9b",
   "metadata": {},
   "source": [
    "## Sammenligninger\n",
    "\n",
    "I  litteratur anvender man ofte sammenligninger til at illustrere pointer tydeligere ved at sætte billeder på det man vil beskrive. Sammenligninger bidrager også til at gøre teksten mere levende og intererssant.\n",
    "\n",
    "Men regex bliver det en overkommelig opgave at hente eksempler på sammenligninger i Grimms eventyr, fordi vi kan finde tekststrenge som følger mønsteret i en typisk sammenligning.\n",
    "\n",
    "Vi kan illustrere det på følgende måde. Vi leder efter fraser, hvis mønster enten er as a ... eller as an ....\n",
    "\n",
    "RegEx mønsteret kan skrives således:\n",
    "\n",
    "'as\\sa\\s\\w+'\n",
    "\n",
    "Ordet 'as' efterfølges af \\s, der betyder white space, der efterfølges af a, derefterføgles af \\s, der efterfølges \\w, der betyder word charater, der efterfølges af + der betyder \"en eller flere af den forrige\"."
   ]
  },
  {
   "cell_type": "code",
   "execution_count": null,
   "id": "0ee01ba7",
   "metadata": {},
   "outputs": [],
   "source": [
    "comparisons = []\n",
    "for text in clean_texts:\n",
    "    comparison = re.findall(r'as\\sa\\s\\w+', text)\n",
    "    comparisons.append(comparison)"
   ]
  },
  {
   "cell_type": "markdown",
   "id": "de48c086",
   "metadata": {},
   "source": [
    "En liste med en zip funktion, der samler filnavne og sammenligninger giver en fin liste."
   ]
  },
  {
   "cell_type": "code",
   "execution_count": null,
   "id": "7dbe4049",
   "metadata": {},
   "outputs": [],
   "source": [
    "list(zip(file_list,comparisons))"
   ]
  },
  {
   "cell_type": "markdown",
   "id": "81c5e7d0",
   "metadata": {},
   "source": [
    "## Find et tekstuddrag baseret på søgeord og et interval\n",
    "\n",
    "Vi vil finde ordet 'king' samt ord, der er beslægtet med ordet, og vi må have noget kontekst med, fordi vi er faktisk interesseret i at pege ned i teksten og se, hvordan konge helt præcist bliver brugt.\n",
    "\n",
    "Til dette skal vi bruge \\w., fordi det giver os flere ordtegn og {30} søger for, at vi får 30 ordtegn før, vi rammer bogstaverne king. \\b foran king søger for at vi kun finder ord, der begynder med king og ikke ord, hvor king er en del af ordet, f.eks. looking. Efter king søger \\w.{30} for, at vi får endnu 30 ordtegn."
   ]
  },
  {
   "cell_type": "code",
   "execution_count": null,
   "id": "e37f20c8",
   "metadata": {},
   "outputs": [],
   "source": [
    "re.findall(r'.{0,30}\\bking.{0,30}', clean_texts[20])"
   ]
  },
  {
   "cell_type": "markdown",
   "id": "e5f805d8",
   "metadata": {},
   "source": [
    "Læg regex mønsteret i et loop og få overblikket over, hvordan ordet benyttes."
   ]
  },
  {
   "cell_type": "code",
   "execution_count": null,
   "id": "6c3ffb85",
   "metadata": {},
   "outputs": [],
   "source": [
    "contexts1 = []\n",
    "for text in clean_texts:\n",
    "    context = re.findall(r'.{0,30}\\bking.{0,30}', text) # ig \n",
    "    contexts1.append(context)\n",
    "\n",
    "list(zip(file_list,contexts1))"
   ]
  },
  {
   "cell_type": "markdown",
   "id": "dd028cb9",
   "metadata": {},
   "source": [
    "# Skattejagt efter egenavne\n",
    "\n",
    "Find de ord, der begynder med store bogstaver, men ikke findes med små bogstaver.\n",
    "\n",
    "Mange af disse ord er skrevet med stort, fordi de optræder efter et punktum, og på den måde er de ikke, hvad jeg vil kalde for \"ægte\" ord med stort.\n",
    "\n",
    "Hvis man vil bortfiltrere de \"uægte\" ord fra sin liste, så kan man afsløre dem ved at lave et loop og indsætte en betingelse, der kan tjekke om, ordene skulle være skrevet med småt andre steder i teksterne, fordi hvis de er det, så er de \"uægte\".\n",
    "\n",
    "Konkret gør vi det på den måde at vi looper listen med ord med store bogtaver. Hvis ordet, som vi med .lower() manipulere til kun at bestå af små bogstaver, ikke findes skrevet med et lille begyndelsesbogstav i alle teksterne, så tilføjer vi ordet til vores nye liste med ord med stort begyndelsesbogstav.\n",
    "\n",
    "NB. vi samler alle tekster i listen raw_texts med ' '.join(). På den måde bliver listen med tekster samlet omkring et mellemrum."
   ]
  },
  {
   "cell_type": "code",
   "execution_count": null,
   "id": "3f633fd9",
   "metadata": {},
   "outputs": [],
   "source": [
    "upper_case = []\n",
    "for text in raw_texts:\n",
    "    upper_case_words = re.findall(r'[A-Z]\\w+', text)\n",
    "    for word in upper_case_words: \n",
    "        if word.lower() not in ' '.join(raw_texts):\n",
    "            upper_case.append(word)\n",
    "set(upper_case)"
   ]
  },
  {
   "cell_type": "markdown",
   "id": "ab306add",
   "metadata": {},
   "source": [
    "## Find tekstuddrag baseret på to søgeord og et interval\n",
    "Det sidste eksempel består i at finde tekstuddrag, der er kendetegnet ved at befinde sig mellem to udvalgte ord og ikke er længere end et udvalgt interval.\n",
    "\n",
    "Det kan f.eks. være relevant, hvis man er interesseret i at identificere tekstuddrag, hvor to vigtige karakterer eller begreber optræder i nærheden af hinanden.\n",
    "\n",
    "Det nye her er spørgsmålstegnet, der gør koden lazy."
   ]
  },
  {
   "cell_type": "code",
   "execution_count": null,
   "id": "016d8dab",
   "metadata": {},
   "outputs": [],
   "source": [
    "contexts2 = []\n",
    "for text in raw_texts:\n",
    "    context = re.findall(r'\\bGretel.+?\\bHans\\w*|\\bHans.+?\\bGretel\\w*', text) # \n",
    "    contexts2.append(context)\n",
    "\n",
    "# indsæt et max interval mellem første og andet ord \n",
    "contexts_within_interval = [item for item in contexts2 if len(item) <= 100]\n",
    "\n",
    "\n",
    "list(zip(file_list,contexts_within_interval))"
   ]
  },
  {
   "cell_type": "code",
   "execution_count": null,
   "id": "bdeda79b",
   "metadata": {},
   "outputs": [],
   "source": []
  }
 ],
 "metadata": {
  "kernelspec": {
   "display_name": "Python 3 (ipykernel)",
   "language": "python",
   "name": "python3"
  },
  "language_info": {
   "codemirror_mode": {
    "name": "ipython",
    "version": 3
   },
   "file_extension": ".py",
   "mimetype": "text/x-python",
   "name": "python",
   "nbconvert_exporter": "python",
   "pygments_lexer": "ipython3",
   "version": "3.9.13"
  }
 },
 "nbformat": 4,
 "nbformat_minor": 5
}
